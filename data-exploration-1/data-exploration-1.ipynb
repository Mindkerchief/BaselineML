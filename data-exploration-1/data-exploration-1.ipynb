{
 "cells": [
  {
   "cell_type": "markdown",
   "id": "2f6042fb-56f9-4bc9-a01f-cdd92cf14ff3",
   "metadata": {},
   "source": [
    "**1.1. We use the function `.shape[0]` to get the number of row**"
   ]
  },
  {
   "cell_type": "code",
   "execution_count": 6,
   "id": "2834d07e-d88a-42c4-b27b-2802b73b3a67",
   "metadata": {},
   "outputs": [
    {
     "data": {
      "text/plain": [
       "48842"
      ]
     },
     "execution_count": 6,
     "metadata": {},
     "output_type": "execute_result"
    }
   ],
   "source": [
    "import pandas as pd\n",
    "\n",
    "adult_census = pd.read_csv('adult-census.csv')\n",
    "adult_census.shape[0]"
   ]
  },
  {
   "cell_type": "markdown",
   "id": "dccb4c4d-967b-4247-a9b7-ddbe187143ed",
   "metadata": {},
   "source": [
    "**1.2. We use the function `.shape[1]` to get the number of column**"
   ]
  },
  {
   "cell_type": "code",
   "execution_count": 3,
   "id": "e8353ffd-e9d5-4cd4-a4a6-9fbd319b5e68",
   "metadata": {},
   "outputs": [
    {
     "data": {
      "text/plain": [
       "14"
      ]
     },
     "execution_count": 3,
     "metadata": {},
     "output_type": "execute_result"
    }
   ],
   "source": [
    "import pandas as pd\n",
    "\n",
    "adult_census = pd.read_csv('adult-census.csv')\n",
    "adult_census.shape[1]"
   ]
  },
  {
   "cell_type": "markdown",
   "id": "f1870f66-54ab-4a46-ae91-08b4e961a660",
   "metadata": {},
   "source": [
    "**1.3-1.5. `class` is the target variable. We use the function `.value_counts()` to count the value count for each variation in class.**"
   ]
  },
  {
   "cell_type": "code",
   "execution_count": 8,
   "id": "b03c83c7-8edc-4837-bb7c-76f896836f7f",
   "metadata": {},
   "outputs": [
    {
     "data": {
      "text/plain": [
       "class\n",
       "<=50K    37155\n",
       ">50K     11687\n",
       "Name: count, dtype: int64"
      ]
     },
     "execution_count": 8,
     "metadata": {},
     "output_type": "execute_result"
    }
   ],
   "source": [
    "import pandas as pd\n",
    "\n",
    "adult_census = pd.read_csv('adult-census.csv')\n",
    "target_column = 'class'\n",
    "adult_census[target_column].value_counts()"
   ]
  },
  {
   "cell_type": "markdown",
   "id": "f7eee596-e1c3-4b2d-a5d3-5172dfb574ae",
   "metadata": {},
   "source": [
    "**1.6. We use the function `.shape[1]` to count the number of columns minus the target column.**"
   ]
  },
  {
   "cell_type": "code",
   "execution_count": 9,
   "id": "e2325d55-641d-4457-b034-6a1e5004f053",
   "metadata": {},
   "outputs": [
    {
     "name": "stdout",
     "output_type": "stream",
     "text": [
      "13\n"
     ]
    }
   ],
   "source": [
    "import pandas as pd\n",
    "\n",
    "adult_census = pd.read_csv('adult-census.csv')\n",
    "input_features = adult_census.shape[1]\n",
    "print(input_features - 1)"
   ]
  },
  {
   "cell_type": "markdown",
   "id": "b330de9a-7752-4cd7-b440-1a51c7970fdf",
   "metadata": {},
   "source": [
    "**1.7-1.9. We use the function `.dtypes` to determine the type of each column so that we can manually count.**"
   ]
  },
  {
   "cell_type": "code",
   "execution_count": 10,
   "id": "30f73b1b-7cc0-4b4c-908a-f353bd82d3ad",
   "metadata": {},
   "outputs": [
    {
     "data": {
      "text/plain": [
       "age                int64\n",
       "workclass         object\n",
       "education         object\n",
       "education-num      int64\n",
       "marital-status    object\n",
       "occupation        object\n",
       "relationship      object\n",
       "race              object\n",
       "sex               object\n",
       "capital-gain       int64\n",
       "capital-loss       int64\n",
       "hours-per-week     int64\n",
       "native-country    object\n",
       "class             object\n",
       "dtype: object"
      ]
     },
     "execution_count": 10,
     "metadata": {},
     "output_type": "execute_result"
    }
   ],
   "source": [
    "import pandas as pd\n",
    "\n",
    "adult_census = pd.read_csv('adult-census.csv')\n",
    "adult_census.dtypes"
   ]
  },
  {
   "cell_type": "markdown",
   "id": "3c0a66d6-fb86-4e02-acc1-210a00be470a",
   "metadata": {},
   "source": [
    "**1.10. We use the function `.head()` to get the first five rows from the dataset**"
   ]
  },
  {
   "cell_type": "code",
   "execution_count": 22,
   "id": "d4587bed-7e16-4e50-b0b1-11b2ee1f621c",
   "metadata": {},
   "outputs": [
    {
     "data": {
      "text/html": [
       "<div>\n",
       "<style scoped>\n",
       "    .dataframe tbody tr th:only-of-type {\n",
       "        vertical-align: middle;\n",
       "    }\n",
       "\n",
       "    .dataframe tbody tr th {\n",
       "        vertical-align: top;\n",
       "    }\n",
       "\n",
       "    .dataframe thead th {\n",
       "        text-align: right;\n",
       "    }\n",
       "</style>\n",
       "<table border=\"1\" class=\"dataframe\">\n",
       "  <thead>\n",
       "    <tr style=\"text-align: right;\">\n",
       "      <th></th>\n",
       "      <th>age</th>\n",
       "      <th>workclass</th>\n",
       "      <th>education</th>\n",
       "      <th>education-num</th>\n",
       "      <th>marital-status</th>\n",
       "      <th>occupation</th>\n",
       "      <th>relationship</th>\n",
       "      <th>race</th>\n",
       "      <th>sex</th>\n",
       "      <th>capital-gain</th>\n",
       "      <th>capital-loss</th>\n",
       "      <th>hours-per-week</th>\n",
       "      <th>native-country</th>\n",
       "      <th>class</th>\n",
       "    </tr>\n",
       "  </thead>\n",
       "  <tbody>\n",
       "    <tr>\n",
       "      <th>0</th>\n",
       "      <td>25</td>\n",
       "      <td>Private</td>\n",
       "      <td>11th</td>\n",
       "      <td>7</td>\n",
       "      <td>Never-married</td>\n",
       "      <td>Machine-op-inspct</td>\n",
       "      <td>Own-child</td>\n",
       "      <td>Black</td>\n",
       "      <td>Male</td>\n",
       "      <td>0</td>\n",
       "      <td>0</td>\n",
       "      <td>40</td>\n",
       "      <td>United-States</td>\n",
       "      <td>&lt;=50K</td>\n",
       "    </tr>\n",
       "    <tr>\n",
       "      <th>1</th>\n",
       "      <td>38</td>\n",
       "      <td>Private</td>\n",
       "      <td>HS-grad</td>\n",
       "      <td>9</td>\n",
       "      <td>Married-civ-spouse</td>\n",
       "      <td>Farming-fishing</td>\n",
       "      <td>Husband</td>\n",
       "      <td>White</td>\n",
       "      <td>Male</td>\n",
       "      <td>0</td>\n",
       "      <td>0</td>\n",
       "      <td>50</td>\n",
       "      <td>United-States</td>\n",
       "      <td>&lt;=50K</td>\n",
       "    </tr>\n",
       "    <tr>\n",
       "      <th>2</th>\n",
       "      <td>28</td>\n",
       "      <td>Local-gov</td>\n",
       "      <td>Assoc-acdm</td>\n",
       "      <td>12</td>\n",
       "      <td>Married-civ-spouse</td>\n",
       "      <td>Protective-serv</td>\n",
       "      <td>Husband</td>\n",
       "      <td>White</td>\n",
       "      <td>Male</td>\n",
       "      <td>0</td>\n",
       "      <td>0</td>\n",
       "      <td>40</td>\n",
       "      <td>United-States</td>\n",
       "      <td>&gt;50K</td>\n",
       "    </tr>\n",
       "    <tr>\n",
       "      <th>3</th>\n",
       "      <td>44</td>\n",
       "      <td>Private</td>\n",
       "      <td>Some-college</td>\n",
       "      <td>10</td>\n",
       "      <td>Married-civ-spouse</td>\n",
       "      <td>Machine-op-inspct</td>\n",
       "      <td>Husband</td>\n",
       "      <td>Black</td>\n",
       "      <td>Male</td>\n",
       "      <td>7688</td>\n",
       "      <td>0</td>\n",
       "      <td>40</td>\n",
       "      <td>United-States</td>\n",
       "      <td>&gt;50K</td>\n",
       "    </tr>\n",
       "    <tr>\n",
       "      <th>4</th>\n",
       "      <td>18</td>\n",
       "      <td>?</td>\n",
       "      <td>Some-college</td>\n",
       "      <td>10</td>\n",
       "      <td>Never-married</td>\n",
       "      <td>?</td>\n",
       "      <td>Own-child</td>\n",
       "      <td>White</td>\n",
       "      <td>Female</td>\n",
       "      <td>0</td>\n",
       "      <td>0</td>\n",
       "      <td>30</td>\n",
       "      <td>United-States</td>\n",
       "      <td>&lt;=50K</td>\n",
       "    </tr>\n",
       "  </tbody>\n",
       "</table>\n",
       "</div>"
      ],
      "text/plain": [
       "   age   workclass      education  education-num       marital-status  \\\n",
       "0   25     Private           11th              7        Never-married   \n",
       "1   38     Private        HS-grad              9   Married-civ-spouse   \n",
       "2   28   Local-gov     Assoc-acdm             12   Married-civ-spouse   \n",
       "3   44     Private   Some-college             10   Married-civ-spouse   \n",
       "4   18           ?   Some-college             10        Never-married   \n",
       "\n",
       "           occupation relationship    race      sex  capital-gain  \\\n",
       "0   Machine-op-inspct    Own-child   Black     Male             0   \n",
       "1     Farming-fishing      Husband   White     Male             0   \n",
       "2     Protective-serv      Husband   White     Male             0   \n",
       "3   Machine-op-inspct      Husband   Black     Male          7688   \n",
       "4                   ?    Own-child   White   Female             0   \n",
       "\n",
       "   capital-loss  hours-per-week  native-country   class  \n",
       "0             0              40   United-States   <=50K  \n",
       "1             0              50   United-States   <=50K  \n",
       "2             0              40   United-States    >50K  \n",
       "3             0              40   United-States    >50K  \n",
       "4             0              30   United-States   <=50K  "
      ]
     },
     "execution_count": 22,
     "metadata": {},
     "output_type": "execute_result"
    }
   ],
   "source": [
    "import pandas as pd\n",
    "\n",
    "adult_census = pd.read_csv(\"adult-census.csv\")\n",
    "adult_census.head()"
   ]
  },
  {
   "cell_type": "markdown",
   "id": "d8011d5c-e4db-4a10-b651-61ca23fd3464",
   "metadata": {},
   "source": [
    "**2.1. We use `matplotlib` to generate a bar graph, for us to better visualize the distribution of ages and determine a range in which the data dramatically change.**"
   ]
  },
  {
   "cell_type": "code",
   "execution_count": 17,
   "id": "25135720-9823-4ee5-b5ed-f80b73d84f17",
   "metadata": {},
   "outputs": [
    {
     "data": {
      "text/plain": [
       "<Axes: xlabel='age'>"
      ]
     },
     "execution_count": 17,
     "metadata": {},
     "output_type": "execute_result"
    },
    {
     "data": {
      "image/png": "[encoded data removed]",
      "text/plain": [
       "<Figure size 1800x600 with 1 Axes>"
      ]
     },
     "metadata": {},
     "output_type": "display_data"
    }
   ],
   "source": [
    "import pandas as pd\n",
    "import matplotlib as plt\n",
    "\n",
    "adult_census = pd.read_csv('adult-census.csv')\n",
    "age_data = adult_census['age']\n",
    "age_counts = age_data.value_counts()\n",
    "_ = age_data.hist(figsize=(18, 6))\n",
    "age_counts.plot(kind='bar')"
   ]
  },
  {
   "cell_type": "markdown",
   "id": "3a08d832-a407-45c2-8a5b-25abc2405a40",
   "metadata": {},
   "source": [
    "**2.2. We use the function `.value_counts()` to get the number in each variation in `educational_num`.**"
   ]
  },
  {
   "cell_type": "code",
   "execution_count": 1,
   "id": "a7e9ada3-de85-41c2-9aa7-48f4f45dd874",
   "metadata": {},
   "outputs": [
    {
     "data": {
      "text/plain": [
       "education-num\n",
       "9     15784\n",
       "10    10878\n",
       "13     8025\n",
       "14     2657\n",
       "11     2061\n",
       "7      1812\n",
       "12     1601\n",
       "6      1389\n",
       "4       955\n",
       "15      834\n",
       "5       756\n",
       "8       657\n",
       "16      594\n",
       "3       509\n",
       "2       247\n",
       "1        83\n",
       "Name: count, dtype: int64"
      ]
     },
     "execution_count": 1,
     "metadata": {},
     "output_type": "execute_result"
    }
   ],
   "source": [
    "import pandas as pd\n",
    "\n",
    "adult_census = pd.read_csv('adult-census.csv')\n",
    "target_column = 'education-num'\n",
    "adult_census[target_column].value_counts()"
   ]
  },
  {
   "cell_type": "markdown",
   "id": "5b629e40-c750-4eca-9e23-22c281f6fb9e",
   "metadata": {},
   "source": [
    "**2.3. We use the function `.value_counts()` to get the number in each variation in `hours-per-week`.**"
   ]
  },
  {
   "cell_type": "code",
   "execution_count": 2,
   "id": "b08cb455-6118-4a3d-b106-1f74a83db4e4",
   "metadata": {},
   "outputs": [
    {
     "data": {
      "text/plain": [
       "hours-per-week\n",
       "40    22803\n",
       "50     4246\n",
       "45     2717\n",
       "60     2177\n",
       "35     1937\n",
       "      ...  \n",
       "79        1\n",
       "94        1\n",
       "87        1\n",
       "69        1\n",
       "82        1\n",
       "Name: count, Length: 96, dtype: int64"
      ]
     },
     "execution_count": 2,
     "metadata": {},
     "output_type": "execute_result"
    }
   ],
   "source": [
    "import pandas as pd\n",
    "\n",
    "adult_census = pd.read_csv('adult-census.csv')\n",
    "target_column = 'hours-per-week'\n",
    "adult_census[target_column].value_counts()"
   ]
  },
  {
   "cell_type": "markdown",
   "id": "c334d744-a28a-45ee-8667-a852f225e1ce",
   "metadata": {},
   "source": [
    "**2.4. We use the function `.value_counts()` to get the number in each variation in `capital-gain`.**"
   ]
  },
  {
   "cell_type": "code",
   "execution_count": 3,
   "id": "b9bee5f7-91ff-4298-8430-bae8cdaa9b14",
   "metadata": {},
   "outputs": [
    {
     "data": {
      "text/plain": [
       "capital-gain\n",
       "0        44807\n",
       "15024      513\n",
       "7688       410\n",
       "7298       364\n",
       "99999      244\n",
       "         ...  \n",
       "6612         1\n",
       "1111         1\n",
       "22040        1\n",
       "1639         1\n",
       "2387         1\n",
       "Name: count, Length: 123, dtype: int64"
      ]
     },
     "execution_count": 3,
     "metadata": {},
     "output_type": "execute_result"
    }
   ],
   "source": [
    "import pandas as pd\n",
    "\n",
    "adult_census = pd.read_csv('adult-census.csv')\n",
    "target_column = 'capital-gain'\n",
    "adult_census[target_column].value_counts()"
   ]
  },
  {
   "cell_type": "markdown",
   "id": "54f0bd76-98b3-4073-ac62-9cda12de6ddc",
   "metadata": {},
   "source": [
    "**2.5. We use the function `.value_counts()` to get the number in each variation in `capital-loss`.**"
   ]
  },
  {
   "cell_type": "code",
   "execution_count": 4,
   "id": "98f466bc-566b-4780-a0d7-84c7c4b4f090",
   "metadata": {},
   "outputs": [
    {
     "data": {
      "text/plain": [
       "capital-loss\n",
       "0       46560\n",
       "1902      304\n",
       "1977      253\n",
       "1887      233\n",
       "2415       72\n",
       "        ...  \n",
       "1539        1\n",
       "2489        1\n",
       "2080        1\n",
       "155         1\n",
       "2201        1\n",
       "Name: count, Length: 99, dtype: int64"
      ]
     },
     "execution_count": 4,
     "metadata": {},
     "output_type": "execute_result"
    }
   ],
   "source": [
    "import pandas as pd\n",
    "\n",
    "adult_census = pd.read_csv('adult-census.csv')\n",
    "target_column = 'capital-loss'\n",
    "adult_census[target_column].value_counts()"
   ]
  },
  {
   "cell_type": "markdown",
   "id": "3ccff8ec-f957-45fe-bd8f-571270b50368",
   "metadata": {},
   "source": [
    "**2.6-2.7. We use the function `.value_counts()` to get the number in each variation in `sex`.**"
   ]
  },
  {
   "cell_type": "code",
   "execution_count": 5,
   "id": "6c9a2b0c-de9a-4479-bfa9-f392bc40fe3d",
   "metadata": {},
   "outputs": [
    {
     "data": {
      "text/plain": [
       "sex\n",
       "Male      32650\n",
       "Female    16192\n",
       "Name: count, dtype: int64"
      ]
     },
     "execution_count": 5,
     "metadata": {},
     "output_type": "execute_result"
    }
   ],
   "source": [
    "import pandas as pd\n",
    "\n",
    "adult_census = pd.read_csv('adult-census.csv')\n",
    "target_column = 'sex'\n",
    "adult_census[target_column].value_counts()"
   ]
  },
  {
   "cell_type": "markdown",
   "id": "3aceb913-2f80-4cf8-97ed-243d709a9b9f",
   "metadata": {},
   "source": [
    "**2.8. We use the function `.value_counts()` to get the number in each variation in `education`.**"
   ]
  },
  {
   "cell_type": "code",
   "execution_count": 6,
   "id": "8c864233-4aed-4531-ad46-a44e86fbbd53",
   "metadata": {},
   "outputs": [
    {
     "data": {
      "text/plain": [
       "education\n",
       "HS-grad         15784\n",
       "Some-college    10878\n",
       "Bachelors        8025\n",
       "Masters          2657\n",
       "Assoc-voc        2061\n",
       "11th             1812\n",
       "Assoc-acdm       1601\n",
       "10th             1389\n",
       "7th-8th           955\n",
       "Prof-school       834\n",
       "9th               756\n",
       "12th              657\n",
       "Doctorate         594\n",
       "5th-6th           509\n",
       "1st-4th           247\n",
       "Preschool          83\n",
       "Name: count, dtype: int64"
      ]
     },
     "execution_count": 6,
     "metadata": {},
     "output_type": "execute_result"
    }
   ],
   "source": [
    "import pandas as pd\n",
    "\n",
    "adult_census = pd.read_csv('adult-census.csv')\n",
    "target_column = 'education'\n",
    "adult_census[target_column].value_counts()"
   ]
  }
 ],
 "metadata": {
  "kernelspec": {
   "display_name": "Python 3 (ipykernel)",
   "language": "python",
   "name": "python3"
  },
  "language_info": {
   "codemirror_mode": {
    "name": "ipython",
    "version": 3
   },
   "file_extension": ".py",
   "mimetype": "text/x-python",
   "name": "python",
   "nbconvert_exporter": "python",
   "pygments_lexer": "ipython3",
   "version": "3.12.4"
  }
 },
 "nbformat": 4,
 "nbformat_minor": 5
}
